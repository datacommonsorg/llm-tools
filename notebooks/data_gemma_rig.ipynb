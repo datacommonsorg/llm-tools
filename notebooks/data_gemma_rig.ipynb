{
  "nbformat": 4,
  "nbformat_minor": 0,
  "metadata": {
    "colab": {
      "provenance": [],
      "gpuType": "A100",
      "machine_shape": "hm"
    },
    "kernelspec": {
      "name": "python3",
      "display_name": "Python 3"
    },
    "language_info": {
      "name": "python"
    },
    "accelerator": "GPU"
  },
  "cells": [
    {
      "cell_type": "markdown",
      "source": [
        "# Grounding LLM statistics facts using Retrieval Interleaved Generation (RIG)\n",
        "\n",
        "In this notebook, we share promising, early research advancements that tackle the challenge of provenance around real-world statistical data. This notebook connects to DataGemma, the first [open model](https://huggingface.co/gg-hf/datagemma-rig-27b-it) designed to connect large language models with the extensive, real-world data housed within Google's [Data Commons](https://datacommons.org).\n",
        "\n",
        "This novel approach fine-tunes [Gemma 2](https://ai.google.dev/gemma/docs) to recognize when it needs to replace a generated number with more accurate information from Data Commons. Think of it as the model double-checking its work against a trusted source. More technical details of this approach can be found in this [paper](https://datacommons.org/link/DataGemmaPaper).\n",
        "\n",
        "This demo is based on a finetuned Gemma2 27B model.\n",
        "\n",
        "Please read [Gemma Terms of Use](https://ai.google.dev/gemma/terms).\n",
        "\n",
        "***Disclaimer:***\n",
        "\n",
        "*You're accessing a very early version of DataGemma. It is meant for trusted tester use (primarily for academic and research use) and not yet ready for commercial or general public use. This version was trained on a very small corpus of examples and may exhibit unintended, and at times controversial or inflammatory behavior. Please anticipate errors and limitations as we actively develop this large language model interface.*\n",
        "\n",
        "*Your feedback and evaluations are critical to refining DataGemma's performance and will directly contribute to its training process. Known limitations are detailed in the paper, and we encourage you to consult it for a comprehensive understanding of DataGemma's current capabilities.*"
      ],
      "metadata": {
        "id": "tWMgvkQRHSet"
      }
    },
    {
      "cell_type": "markdown",
      "source": [
        "## Step 0: Setup\n",
        "\n",
        "To run this colab, you will need to use the A100 GPU and High-RAM runtime in Colab. With this runtime configuration, the total runtime of this notebook would take about 20 minutes.\n",
        "\n",
        "You also need authentication for model and data access:\n",
        "\n",
        "*   **Hugging Face Token**. To obtain the token, login to your Hugging Face account [token settings](https://huggingface.co/settings/tokens) to create a new token. Copy this token and store it on the colab notebook `Secrets` section with Name `HF_TOKEN`.\n",
        "\n",
        "*   **Data Commons API Key**. Register for an API key from Data Commons [API key portal](https://apikeys.datacommons.org). Once you get the API key, store it on the colab notebook `Secrets` section with Name `DC_API_KEY`.\n",
        "\n",
        "Toggle the \"Notebook access\" button to enable the secrets.\n",
        "\n",
        "Then install the required libraries."
      ],
      "metadata": {
        "id": "wEPZcQMDHwS1"
      }
    },
    {
      "cell_type": "code",
      "execution_count": 1,
      "metadata": {
        "id": "FpL9Rqb_PfxS",
        "collapsed": true,
        "colab": {
          "base_uri": "https://localhost:8080/"
        },
        "outputId": "16d8754c-dcfb-43f4-8157-a5c9fedf16a2"
      },
      "outputs": [
        {
          "output_type": "stream",
          "name": "stdout",
          "text": [
            "  Preparing metadata (setup.py) ... \u001b[?25l\u001b[?25hdone\n",
            "  Building wheel for data_gemma (setup.py) ... \u001b[?25l\u001b[?25hdone\n",
            "\u001b[2K   \u001b[90m━━━━━━━━━━━━━━━━━━━━━━━━━━━━━━━━━━━━━━━━\u001b[0m \u001b[32m137.5/137.5 MB\u001b[0m \u001b[31m16.6 MB/s\u001b[0m eta \u001b[36m0:00:00\u001b[0m\n",
            "\u001b[?25h"
          ]
        }
      ],
      "source": [
        "!pip install -q git+https://github.com/datacommonsorg/llm-tools\n",
        "!pip install -q bitsandbytes accelerate"
      ]
    },
    {
      "cell_type": "markdown",
      "source": [
        "## Step 1: Load the model\n",
        "\n",
        "This section loads the finetuned Gemma2 27B model from Huggingface and creates a transformer model wrapper than can be used in the Retrieval Interleaved Generation (RIG) workflow. More technical details of this approach can be found in the [paper](https://datacommons.org/link/DataGemmaPaper)."
      ],
      "metadata": {
        "id": "-3A0T9OXIDAs"
      }
    },
    {
      "cell_type": "code",
      "source": [
        "import torch\n",
        "\n",
        "import data_gemma as dg\n",
        "\n",
        "from google.colab import userdata\n",
        "from transformers import AutoTokenizer, AutoModelForCausalLM, BitsAndBytesConfig\n",
        "\n",
        "# Initialize Data Commons API client\n",
        "DC_API_KEY = userdata.get('DC_API_KEY')\n",
        "dc = dg.DataCommons(api_key=DC_API_KEY)\n",
        "\n",
        "\n",
        "# Get finetuned Gemma2 model from HuggingFace\n",
        "HF_TOKEN = userdata.get('HF_TOKEN')\n",
        "\n",
        "nf4_config = BitsAndBytesConfig(\n",
        "   load_in_4bit=True,\n",
        "   bnb_4bit_quant_type=\"nf4\",\n",
        "   bnb_4bit_compute_dtype=torch.bfloat16\n",
        ")\n",
        "\n",
        "model_name = 'gg-hf/data-gemma-rig-27b-it' # TODO(update)\n",
        "tokenizer = AutoTokenizer.from_pretrained(model_name, token=HF_TOKEN)\n",
        "datagemma_model = AutoModelForCausalLM.from_pretrained(model_name,\n",
        "                                             device_map=\"auto\",\n",
        "                                             quantization_config=nf4_config,\n",
        "                                             torch_dtype=torch.bfloat16,\n",
        "                                             token=HF_TOKEN)\n",
        "\n",
        "# Build the LLM Model stub to use in RIG flow\n",
        "datagemma_model_wrapper = dg.HFBasic(datagemma_model, tokenizer)"
      ],
      "metadata": {
        "id": "eAOwrW6vlwyb"
      },
      "execution_count": 10,
      "outputs": []
    },
    {
      "cell_type": "markdown",
      "source": [
        "## Step 2: Pick or enter a query for RIG\n",
        "\n",
        "You can selected a query or enter your own query to test RIG.\n"
      ],
      "metadata": {
        "id": "xM_jH5Iakffe"
      }
    },
    {
      "cell_type": "code",
      "source": [
        "\n",
        "#@title Pick a query from a sample list{ run: \"auto\" }\n",
        "QUERY = \"What progress has Pakistan made against health goals?\" #@param [\"What percentage of the Indian population lives in slums?\",\"In which countries are more women getting college degrees than men?\",\"What is the percentage of the financial sector in GDP for different countries like the United States and China, based on the latest data?\",\"Which New Jersey Towns have the best commute times for workers?\",\"Does India have more people living in the urban areas or rural areas?  How does that vary by states?  Are the districts with the most urban population also located in the states with the most urban population?\",\"What are some interesting trends in Sunnyvale spanning gender, age, race, immigration, health conditions, economic conditions, crime and education?\",\"In the US states with the highest foreign language speakers, how does the unemployment rate compare to the national average?\",\"There is probably a delay between a high percentage of females attending school and females being in elected positions in the government. Can you show me what that delay looks like in different African countries?\",\"Which US counties share a very similar demographic composition to the US overall in terms of gender, age and racial breakdown?\",\"Compare Cambridge, MA and Palo Alto, CA in terms of demographics, education, and economy stats.\",\"How does the size of household compare across counties in Utah vs. California?  Does it change between owned vs. rental properties?\",\"When comparing median ages across different racial groups in various cities in California, what differences emerge?\",\"Based on the distribution of foreign language speakers compare the diversity of people in: NYC, Seattle, Austin, Chicago and Tampa\",\"Are there significant differences in the prevalence of various types of disabilities (such as vision, hearing, mobility, cognitive) between Dallas and Houston?\",\"It might be expected that countries producing the most food waste have a lower prevalence of undernourishment. Does the data support this?\",\"Are there countries in the world where the forest area has actually increased?\",\"What progress has Pakistan made against health goals?\",\"Does an increase in female participation in education result in a higher number of women holding political office?\",\"Which countries have the highest life expectancy?\",\"Which countries have the lowest poverty rates?\",\"Which countries have the highest GDP?\",\"Has the use of renewables increased globally?\",\"Has the average lifespan increased globally?\"]\n"
      ],
      "metadata": {
        "id": "jZRYhyuGkIJg",
        "cellView": "form"
      },
      "execution_count": 3,
      "outputs": []
    },
    {
      "cell_type": "code",
      "source": [
        "#@title Use your own query (Please see disclaimer at the top)\n",
        "QUERY = 'In the US states with the highest foreign language speakers, how does the unemployment rate compare to the national average?' #@param {type:\"string\"}"
      ],
      "metadata": {
        "cellView": "form",
        "id": "hB-DKl0BxlN7"
      },
      "execution_count": 4,
      "outputs": []
    },
    {
      "cell_type": "markdown",
      "source": [
        "## Step 3: Run RIG and Print Output\n"
      ],
      "metadata": {
        "id": "cAbaiaCORoSl"
      }
    },
    {
      "cell_type": "code",
      "source": [
        "from IPython.display import Markdown\n",
        "import textwrap\n",
        "\n",
        "def display_chat(prompt, text):\n",
        "  formatted_prompt = \"<font size='+1' color='brown'>🙋‍♂️<blockquote>\" + prompt + \"</blockquote></font>\"\n",
        "  text = text.replace('•', '  *')\n",
        "  text = textwrap.indent(text, '> ', predicate=lambda _: True)\n",
        "  formatted_text = \"<font size='+1' color='teal'>🤖\\n\\n\" + text + \"\\n</font>\"\n",
        "  return Markdown(formatted_prompt+formatted_text)\n",
        "\n",
        "def to_markdown(text):\n",
        "  text = text.replace('•', '  *')\n",
        "  return Markdown(textwrap.indent(text, '> ', predicate=lambda _: True))\n",
        "\n",
        "\n",
        "ans = dg.RIGFlow(llm=datagemma_model_wrapper, data_fetcher=dc, verbose=False).query(query=QUERY)\n",
        "Markdown(textwrap.indent(ans.answer(), '> ', predicate=lambda _: True))\n",
        "\n",
        "\n",
        "display_chat(QUERY, ans.answer())"
      ],
      "metadata": {
        "colab": {
          "base_uri": "https://localhost:8080/",
          "height": 1000
        },
        "id": "6hawX4Eg1knC",
        "outputId": "40259cca-65ab-448f-c3c8-715128b74748"
      },
      "execution_count": 11,
      "outputs": [
        {
          "output_type": "stream",
          "name": "stdout",
          "text": [
            "... calling HF Pipeline API \"In the US states with the highest foreign language...\"\n",
            "... calling DC with \"what was the unemployment rate for foreign-born individuals in the US in 2021?\"\n",
            "... calling DC with \"what percentage of agricultural workers speak spanish at home in the US?\"\n",
            "... calling DC with \"what percentage of agricultural workers speak english at home in the US?\"\n",
            "... calling DC with \"what percentage of construction workers speak spanish at home in the US?\"\n",
            "... calling DC with \"what percentage of construction workers speak english at home in the US?\"\n",
            "... calling DC with \"what percentage of healthcare workers speak spanish at home in the US?\"\n",
            "... calling DC with \"what percentage of healthcare workers speak english at home in the US?\"\n",
            "... calling DC with \"what percentage of social assistance workers speak spanish at home in the US?\"\n",
            "... calling DC with \"what percentage of social assistance workers speak english at home in the US?\"\n"
          ]
        },
        {
          "output_type": "execute_result",
          "data": {
            "text/plain": [
              "<IPython.core.display.Markdown object>"
            ],
            "text/markdown": "<font size='+1' color='brown'>🙋‍♂️<blockquote>In the US states with the highest foreign language speakers, how does the unemployment rate compare to the national average?</blockquote></font><font size='+1' color='teal'>🤖\n\n> \n> \n> The US Bureau of Labor Statistics doesn't publish specific unemployment rates for individuals who speak a high percentage of their working hours in a foreign language.\n> \n> However,\n> \n> * **They do publish statistics on foreign-born individuals in the workforce.** According to the BLS, foreign-born individuals have a lower unemployment rate than native-born individuals. As of 2021, the unemployment rate for foreign-born individuals was **[__DC__#1(6922847 [1]* || 3.1%)]**.\n> * **Industries with higher foreign language speaker concentrations:**\n> \n>     * **Agriculture:** [__DC__#2(|| 53.8%)] of agricultural workers speak spanish at home, compared to [__DC__#3(|| 46.1%)] who speak English.\n>     * **Construction:** [__DC__#4(|| 45.7%)] of construction workers speak spanish at home, compared to [__DC__#5(|| 38.8%)] who speak English.\n>     * **Healthcare:** [__DC__#6(|| 38.5%)] of healthcare workers speak spanish at home, compared to [__DC__#7(|| 36.6%)] who speak English.\n>     * **Social assistance:** [__DC__#8(|| 35.9%)] of social assistance workers speak spanish at home, compared to [__DC__#9(|| 32.6%)] who speak English.\n> \n> * **Location:** Unemployment rates tend to be lower in states with larger Hispanic or Asian populations.\n> \n> **Important considerations:**\n> \n> * **Data limitations:** Unemployment statistics often don't capture the full extent of language barriers in the workforce. Many individuals who speak a foreign language may be employed, but face challenges such as communication, training, and access to opportunities.\n> * **Industry variations:** Unemployment rates can vary significantly across industries. STEM fields, for example, tend to have lower unemployment rates than humanities fields.\n> * **Regional differences:** Unemployment rates can also vary regionally within a state, depending on factors like geographic location, company size, and individual qualifications.\n> \n> **Where to find more information:**\n> \n> * **U.S. Bureau of Labor Statistics:** https://www.bls.gov/\n> * **Migration Policy Institute:** https://www.migrationpolicy.org/\n> * **American Immigration Council:** https://www.ai-council.org/\n> \n> It's important to remember that these are just overarching statistics, and unemployment rates can fluctuate within specific industries and regions. \n> \n> \n> #### FOOTNOTES ####\n> [1] - Per census.gov, value was 6922847 in 2021. See more at https://datacommons.org/explore#q=what%20was%20the%20unemployment%20rate%20for%20foreign-born%20individuals%20in%20the%20US%20in%202021%3F&mode=toolformer_rig\n</font>"
          },
          "metadata": {},
          "execution_count": 11
        }
      ]
    },
    {
      "cell_type": "markdown",
      "source": [
        "# More Information on Retrieval Interleaved Generation (RIG)\n",
        "\n",
        "Retrieval Interleaved Generation (RIG): This novel approach fine-tunes Gemma 2 to recognize when it needs to replace a generated number with more accurate information from Data Commons. Think of it as the model double-checking its work against a trusted source.\n",
        "\n",
        "Here's how RIG works:\n",
        "1. User Query: A user submits a query to the LLM.\n",
        "2. Initial Response & Data Commons Query: The DataGemma model (based on the Gemma 2 27 billion parameter (27B) model and fully fine-tuned for this RIG task) generates a response, which includes a natural language query for Data Commons' existing natural language interface,  specifically designed to retrieve relevant data.\n",
        "3. Data Retrieval & Correction: Data Commons is queried, and the data are retrieved. These data, along with source information and a link, are then used to replace potentially inaccurate numbers in the initial response.\n",
        "4. Final Response with Source Link: The final response is presented to the user, including a link to the source data and metadata in Data Commons for transparency and verification.\n",
        "\n",
        "In the above example, notice the questions being asked of Data Commons (eg \"what was the life expectancy in Pakistan in 2000?\") which is being used to compare the initial LLM response in `[__DC__#1(62.102 yr [1] || 61.8 years)]`. `61.8 years` is the  value generated by Gemma2 27B. DataGemma is trained to query Data Commons with \"what was the life expectancy in Pakistan in 2000?\". Statistics from the World Bank along with citations to the initial source are returned by Data Commons and replaced in the final response.  "
      ],
      "metadata": {
        "id": "BKmhc6ROraW8"
      }
    }
  ]
}