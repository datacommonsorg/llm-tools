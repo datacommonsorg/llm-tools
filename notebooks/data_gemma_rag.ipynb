{
  "nbformat": 4,
  "nbformat_minor": 0,
  "metadata": {
    "colab": {
      "provenance": [],
      "gpuType": "L4",
      "machine_shape": "hm"
    },
    "kernelspec": {
      "name": "python3",
      "display_name": "Python 3"
    },
    "language_info": {
      "name": "python"
    },
    "accelerator": "GPU"
  },
  "cells": [
    {
      "cell_type": "markdown",
      "source": [
        "# Grounding LLM statistics facts using Retrieval Augmented Generation (RAG)\n",
        "\n",
        "In this notebook, we share promising, early research advancements that tackle the challenge of provenance around real-world statistical data. This notebook connects to DataGemma, the first open-source models designed to connect large language models with the extensive, real-world data housed within Google's Data Commons.\n",
        "\n",
        "This established approach retrieves relevant information from Data Commons before the LLM generates text, providing it with a factual foundation for its response. This implementation is only possible because of Gemini 1.5 Pro’s long context window allowing us to append the user query with the Data Commons data. More technical details of this approach can be found in **TODO:(paper link)**.\n",
        "\n",
        "This demo is based on a finetuned Gemma2 27B model.\n",
        "\n",
        "Please read [Gemma Terms of Use](https://ai.google.dev/gemma/terms).\n",
        "\n",
        "***Disclaimer:***\n",
        "\n",
        "*You're accessing a very early version of DataGemma. It is meant for trusted tester use (primarily for academic and research use) and not yet ready for commercial or general public use. This version was trained on a very small corpus of examples and may exhibit unintended, and at times controversial or inflammatory behavior. Please anticipate errors and limitations as we actively develop this large language model interface.*\n",
        "\n",
        "*Your feedback and evaluations are critical to refining DataGemma's performance and will directly contribute to its training process. Known limitations are detailed in the paper, and we encourage you to consult it for a comprehensive understanding of DataGemma's current capabilities.*"
      ],
      "metadata": {
        "id": "tWMgvkQRHSet"
      }
    },
    {
      "cell_type": "markdown",
      "source": [
        "## Step 0: Setup\n",
        "\n",
        "To run this colab, you will need to use the A100 GPU and High-RAM runtime in Colab. With this runtime configuration, the total runtime of this notebook would take about 20 minutes.\n",
        "\n",
        "You also need authentication for model and data access:\n",
        "\n",
        "*   **Hugging Face Token**. To obtain the token, login to your Hugging Face account [token settings](https://huggingface.co/settings/tokens) to create a new token. Copy this token and store it on the colab notebook `Secrets` section with Name `HF_TOKEN`.\n",
        "\n",
        "*   **Data Commons API Key**. Register for an API key from Data Commons [API key portal](https://apikeys.datacommons.org). Once you get the API key, store it on the colab notebook `Secrets` section with Name `DC_API_KEY`.\n",
        "\n",
        "*   **Gemini 1.5 Pro API Key**. Register for an API key from [Google AI Studio](https://aistudio.google.com/app/apikey). Once you get the API key, store it on the colab notebook `Secrets` section with Name `GEMINI_API_KEY`\n",
        "\n",
        "Toggle the \"Notebook access\" button to enable the secrets.\n",
        "\n",
        "\n",
        "\n",
        "Then install the required libraries."
      ],
      "metadata": {
        "id": "wEPZcQMDHwS1"
      }
    },
    {
      "cell_type": "code",
      "execution_count": null,
      "metadata": {
        "id": "FpL9Rqb_PfxS",
        "collapsed": true
      },
      "outputs": [],
      "source": [
        "!pip install -q git+https://github.com/datacommonsorg/llm-tools\n",
        "!pip install -q bitsandbytes accelerate"
      ]
    },
    {
      "cell_type": "markdown",
      "source": [
        "## Step 1: Load the model\n",
        "\n",
        "This section loads the finetuned Gemma2 27B model from Huggingface and creates a transformer model wrapper than can be used in the Retrieval Augmented Generation (RAG) workflow. More technical details of this approach can be found in **TODO:(paper link)**."
      ],
      "metadata": {
        "id": "-3A0T9OXIDAs"
      }
    },
    {
      "cell_type": "code",
      "source": [
        "import torch\n",
        "\n",
        "import data_gemma as dg\n",
        "\n",
        "from google.colab import userdata\n",
        "from transformers import AutoTokenizer, AutoModelForCausalLM, BitsAndBytesConfig\n",
        "\n",
        "# Initialize Data Commons API client\n",
        "DC_API_KEY = userdata.get('DC_API_KEY')\n",
        "dc = dg.DataCommons(api_key=DC_API_KEY)\n",
        "\n",
        "# Get Gemini 1.5 Pro model\n",
        "GEMINI_API_KEY = userdata.get('GEMINI_API_KEY')\n",
        "gemini_model = dg.GoogleAIStudio(model='gemini-1.5-pro', api_keys=[GEMINI_API_KEY])\n",
        "\n",
        "\n",
        "# Get finetuned Gemma2 model from HuggingFace\n",
        "HF_TOKEN = userdata.get('HF_TOKEN')\n",
        "\n",
        "nf4_config = BitsAndBytesConfig(\n",
        "   load_in_4bit=True,\n",
        "   bnb_4bit_quant_type=\"nf4\",\n",
        "   bnb_4bit_compute_dtype=torch.bfloat16\n",
        ")\n",
        "\n",
        "model_name = 'gg-hf/data-gemma-rag-27b-it' # TODO(update)\n",
        "tokenizer = AutoTokenizer.from_pretrained(model_name, token=HF_TOKEN)\n",
        "model = AutoModelForCausalLM.from_pretrained(model_name,\n",
        "                                             device_map=\"auto\",\n",
        "                                             quantization_config=nf4_config,\n",
        "                                             torch_dtype=torch.bfloat16,\n",
        "                                             token=HF_TOKEN)\n",
        "\n",
        "# Build the LLM Model stub to use in RAG flow\n",
        "hfm = dg.HFBasic(model, tokenizer)"
      ],
      "metadata": {
        "id": "eAOwrW6vlwyb",
        "collapsed": true
      },
      "execution_count": null,
      "outputs": []
    },
    {
      "cell_type": "markdown",
      "source": [
        "## Step 2: Pick or enter a query for RAG\n",
        "\n",
        "You can select a query or enter your own query to test RAG.\n"
      ],
      "metadata": {
        "id": "xM_jH5Iakffe"
      }
    },
    {
      "cell_type": "code",
      "source": [
        "\n",
        "#@title Pick a query from a sample list{ run: \"auto\" }\n",
        "QUERY = \"Do the US states with high coal fired power also have high rates of COPD?\" #@param [\"Do the US states with high coal fired power also have high rates of COPD?\", \"Is obesity in America continuing to increase?\", \"Which US states have the highest percentage of uninsured children?\", \"Which US states have the highest cancer rates?\", \"How have CO2 emissions changed in France over the last 10 years?\", \"How many US households have individuals over than 65 in them\", \"Which New Jersey schools have the highest student to teacher ratio?\", \"Show me a breakdown of income distribution for Seattle.\", \"Which New Jersey cities have the best commute times for workers?\", \"If you excluded the SF/Bay Area from California, what would the GDP then be?\", \"What are the highest paid jobs in Texas?\", \"Does India have more people living in the urban areas or rural areas?  How does that vary by states?  Are the districts with the most urban population also located in the states with the most urban population?\", \"Can you find a district in India each where: 1. there are more muslims than hindus or christians or sikhs;  2. more christians than the rest;  3. more sikhs than the rest.\", \"What are some interesting trends in Sunnyvale spanning gender, age, race, immigration, health conditions, economic conditions, crime and education?\", \"Which US States are the best environmentally?\", \"Where are the most violent places in the world?\", \"Compare Cambridge, MA and Palo Alto, CA in terms of demographics, education, and economy stats.\", \"What trends can be observed among the countries that are the top consumers, importers and exporters of electricity?\", \"Give me some farming statistics about Kern county, CA.\", \"What is the fraction households below poverty status receive food stamps in the US?  How does that vary across states?\", \"Is there evidence that single-parent families are more likely to be below the poverty line compared to married-couple families in the US?\", \"At what points in the past did house prices in bay area counties dip?\", \"What patterns emerge from statistics on safe birth rates across states in India?\", \"Based on the distribution of foreign language speakers compare the diversity of people in: NYC, Seattle, Austin, Chicago and Tampa\", \"Are there significant differences in the prevalence of various types of disabilities (such as vision, hearing, mobility, cognitive) between Dallas and Houston?\", \"Are there states in the US that stand out as outliers in terms of the prevalence of drinking and smoking?\", \"Has the use of renewables increased globally?\", \"Has the average lifespan increased globally?\"]\n"
      ],
      "metadata": {
        "id": "jZRYhyuGkIJg"
      },
      "execution_count": null,
      "outputs": []
    },
    {
      "cell_type": "code",
      "source": [
        "#@title Use your own query (Please see disclaimer at the top)\n",
        "QUERY = 'In the US states with the highest foreign language speakers, how does the unemployment rate compare to the national average?' #@param {type:\"string\"}"
      ],
      "metadata": {
        "cellView": "form",
        "id": "hB-DKl0BxlN7"
      },
      "execution_count": null,
      "outputs": []
    },
    {
      "cell_type": "markdown",
      "source": [
        "## Step 3: Run RAG and Print Output\n"
      ],
      "metadata": {
        "id": "cAbaiaCORoSl"
      }
    },
    {
      "cell_type": "code",
      "source": [
        "print(f\"[QUERY]: {QUERY}\\n\")\n",
        "ans = dg.RAGFlow(llm_question=hfm, llm_answer=gemini_model, data_fetcher=dc).query(query=QUERY)\n",
        "print(ans.answer())"
      ],
      "metadata": {
        "colab": {
          "base_uri": "https://localhost:8080/"
        },
        "id": "6hawX4Eg1knC",
        "outputId": "646cd744-3634-487a-8e00-90e4037c8e17"
      },
      "execution_count": null,
      "outputs": [
        {
          "output_type": "stream",
          "name": "stdout",
          "text": [
            "[QUERY]: What are some interesting trends in Sunnyvale spanning gender, age, race, immigration, health conditions, economic conditions, crime and education?\n",
            "\n",
            "... [RAG] Calling FINETUNED model for DC questions\n",
            "... calling HF Pipeline API \"\"\n",
            "Your role is that of a Question Generator.  Give...\"\n",
            "... [RAG] Making DC Calls\n",
            "... calling DC for table with \"What is the percentage of Sunnyvale residents born outside of Sunnyvale private schools?\"\n",
            "... calling DC for table with \"What is the percentage of Sunnyvale residents born outside of Sunnyvale school districts?\"\n",
            "... calling DC for table with \"What is the percentage of Sunnyvale residents born in Sunnyvale private schools?\"\n",
            "... calling DC for table with \"What is the percentage of Sunnyvale residents born in Sunnyvale charter schools?\"\n",
            "... calling DC for table with \"What is the percentage of Sunnyvale residents born in Sunnyvale school districts?\"\n",
            "... calling DC for table with \"What is the population of Sunnyvale residents born in the US?\"... calling DC for table with \"What is the percentage of Sunnyvale residents born outside of Sunnyvale charter schools?\"\n",
            "\n",
            "... calling DC for table with \"What is the percentage of Sunnyvale residents born in the US?\"\n",
            "... calling DC for table with \"What is the population of Sunnyvale?\"\n",
            "... calling DC for table with \"What is the population of Sunnyvale males?\"\n",
            "... calling DC for table with \"What is the population of Sunnyvale females?\"\n",
            "... calling DC for table with \"What is the population of Sunnyvale residents born outside the US?\"... calling DC for table with \"What is the percentage of Sunnyvale residents born outside the US?\"\n",
            "\n",
            "... calling DC for table with \"What is the percentage of Sunnyvale residents born in Sunnyvale?\"\n",
            "... calling DC for table with \"What is the percentage of Sunnyvale residents born outside of Sunnyvale?\"\n",
            "... calling DC for table with \"What is the population of Sunnyvale immigrants?\"\n",
            "... [RAG] Calling UNTUNED model for final response\n",
            "... calling AIStudio gemini-1.5-flash \"Using statistics from the tables below, respond t...\"\n",
            "Sunnyvale exhibits several interesting trends across various demographics. \n",
            "\n",
            "**Gender:** Sunnyvale has a slightly higher proportion of men than women. In 2022, there were 80,751 men and 73,822 women [Table 10, Table 11]. This trend has been consistent over the past decade.\n",
            "\n",
            "**Age:** The student population in Sunnyvale has been relatively stable over the past decade, with a slight decrease in enrollment at the elementary and high school levels [Table 1]. This suggests a potential decrease in the number of young children and teenagers in the city.\n",
            "\n",
            "**Race:** Sunnyvale has a significant Asian population, with 36.08% of foreign-born residents being of Asian origin [Table 8, Table 14]. This suggests a strong presence of Asian immigrants in the city.\n",
            "\n",
            "**Immigration:** Sunnyvale has a high proportion of foreign-born residents, with 75,665 foreign-born individuals in 2022 [Table 12]. This represents a significant portion of the city's population. The majority of foreign-born residents are from Asia, followed by Mexico and Europe [Table 8, Table 14].\n",
            "\n",
            "**Health Conditions:** The tables do not provide information on health conditions in Sunnyvale.\n",
            "\n",
            "**Economic Conditions:** The tables do not provide information on economic conditions in Sunnyvale.\n",
            "\n",
            "**Crime:** The tables do not provide information on crime in Sunnyvale.\n",
            "\n",
            "**Education:** Sunnyvale has a relatively high proportion of college-educated residents, with 3.61% of the population enrolled in college undergraduate years in 2022 [Table 1]. This suggests a strong emphasis on higher education in the city. \n",
            "\n",
            "**Overall:** Sunnyvale is a diverse city with a significant immigrant population, particularly from Asia. The city has a relatively stable student population and a high proportion of college-educated residents. \n",
            "\n",
            "\n",
            "#### TABLES ####\n",
            "Table 1: Student Population by Enrollment Level in Sunnyvale (unit: %), according to census.gov\n",
            "date | Population: Enrolled in Kindergarten | Elementary School Students | Middle School Students | High School Students | Population: Enrolled in College Undergraduate Years\n",
            "------------------------------------------------------------------------------------------------------------------------------------------------------------------------------\n",
            "2022 | 1.2189 | 4.9539 | 3.0838 | 3.8402 | 3.6064\n",
            "2021 | 1.5001 | 5.4421 | 3.0698 | 3.8303 | 3.5026\n",
            "2020 | 1.3782 | 5.4241 | 2.986 | 3.4807 | 3.3678\n",
            "2019 | 1.3542 | 5.4826 | 2.9491 | 3.6014 | 3.6164\n",
            "2018 | 1.2707 | 5.6877 | 3.0185 | 3.8109 | 3.764\n",
            "2017 | 1.2659 | 5.8087 | 2.9332 | 3.7511 | 4.0443\n",
            "2016 | 1.3183 | 5.7563 | 3.0155 | 3.8022 | 3.9669\n",
            "2015 | 1.2184 | 5.5322 | 2.9052 | 4.1972 | 4.3045\n",
            "2014 | 1.3271 | 5.4579 | 3.031 | 4.458 | 4.6009\n",
            "2013 | 1.5488 | 5.0023 | 3.0144 | 4.1532 | 4.7946\n",
            "2012 | 1.6079 | 4.8086 | 3.0949 | 4.4417 | 4.9\n",
            "\n",
            "\n",
            "Table 6: Population: Born in State of Residence (2022), according to census.gov\n",
            "variable | United States of America | Sunnyvale\n",
            "-----------------------------------------------\n",
            "Population: Born in State of Residence | 191703183 | 54785\n",
            "\n",
            "\n",
            "Table 8: Population by Birth Place (2019 to 2021) (unit: %), according to data.census.gov\n",
            "variable | United States of America | Sunnyvale\n",
            "-----------------------------------------------\n",
            "Population: Foreign Born, Asia | 4.2139 | 36.0811\n",
            "Foreign-born Caribbean origin | 1.3203 | 0.1559\n",
            "Foreign-born Central American origin (except Mexico) | 1.0701 | 1.0567\n",
            "Population: Foreign Born, Europe | 1.4587 | 4.18\n",
            "Foreign-born, Mexican origin | 3.4266 | 4.5114\n",
            "Population: Foreign Born, Southamerica | 0.963 | 1.0111\n",
            "\n",
            "\n",
            "Table 9: Population in Sunnyvale, according to www2.census.gov\n",
            "date | Population\n",
            "-----------------\n",
            "2022 | 153091\n",
            "2021 | 152258\n",
            "2020 | 155860\n",
            "2019 | 153302\n",
            "2018 | 153453\n",
            "2017 | 152462\n",
            "2016 | 151781\n",
            "2015 | 150934\n",
            "2014 | 149124\n",
            "2013 | 147791\n",
            "2012 | 145530\n",
            "2011 | 142866\n",
            "2010 | 140786\n",
            "2009 | 133543\n",
            "2008 | 131440\n",
            "2007 | 129212\n",
            "2006 | 128092\n",
            "2005 | 127480\n",
            "2004 | 126485\n",
            "2003 | 127077\n",
            "2002 | 128138\n",
            "2001 | 130254\n",
            "2000 | 130846\n",
            "1999 | 127324\n",
            "1998 | 127849\n",
            "1997 | 126589\n",
            "1996 | 125035\n",
            "1995 | 123109\n",
            "1994 | 121944\n",
            "1993 | 119981\n",
            "1992 | 119008\n",
            "1991 | 117316\n",
            "1990 | 117311\n",
            "\n",
            "\n",
            "Table 10: Men in Sunnyvale, according to census.gov\n",
            "date | Men\n",
            "----------\n",
            "2022 | 80751\n",
            "2021 | 81173\n",
            "2020 | 78493\n",
            "2019 | 79285\n",
            "2018 | 78577\n",
            "2017 | 77912\n",
            "2016 | 76665\n",
            "2015 | 75706\n",
            "2014 | 74044\n",
            "2013 | 73366\n",
            "2012 | 71811\n",
            "2011 | 70129\n",
            "\n",
            "\n",
            "Table 11: Women in Sunnyvale, according to census.gov\n",
            "date | Women\n",
            "------------\n",
            "2022 | 73822\n",
            "2021 | 74377\n",
            "2020 | 74076\n",
            "2019 | 73485\n",
            "2018 | 73746\n",
            "2017 | 73653\n",
            "2016 | 72931\n",
            "2015 | 72472\n",
            "2014 | 71877\n",
            "2013 | 69949\n",
            "2012 | 69312\n",
            "2011 | 68307\n",
            "\n",
            "\n",
            "Table 12: Population: Foreign Born (2022), according to census.gov\n",
            "variable | United States of America | Sunnyvale\n",
            "-----------------------------------------------\n",
            "Population: Foreign Born | 45083737 | 75665\n",
            "\n",
            "\n",
            "Table 14: Population by Birth Place in Sunnyvale (2019) (unit: %), according to data.census.gov\n",
            "variable | Sunnyvale\n",
            "--------------------\n",
            "Population: Foreign Born, Asia | 36.0811\n",
            "Foreign-born Caribbean origin | 0.1559\n",
            "Foreign-born Central American origin (except Mexico) | 1.0567\n",
            "Population: Foreign Born, Europe | 4.18\n",
            "Foreign-born, Mexican origin | 4.5114\n",
            "Population: Foreign Born, Southamerica | 1.0111\n",
            "\n",
            "\n",
            "Table 16: Population by Nativity in Sunnyvale, according to census.gov\n",
            "date | Population: Foreign Born | Population: Native\n",
            "----------------------------------------------------\n",
            "2022 | 76300 | 68584\n",
            "2021 | 76741 | 68726\n",
            "2020 | 75296 | 67508\n",
            "2019 | 74297 | 68507\n",
            "2018 | 73412 | 68607\n",
            "2017 | 71645 | 69617\n",
            "2016 | 69419 | 69764\n",
            "2015 | 67445 | 70033\n",
            "2014 | 65056 | 69759\n",
            "2013 | 63354 | 69058\n",
            "2012 | 62816 | 67816\n",
            "2011 | 61052 | 66904\n",
            "\n",
            "\n"
          ]
        }
      ]
    },
    {
      "cell_type": "markdown",
      "source": [
        "# More Information on Retrieval Augmented Generation (RAG)\n",
        "\n",
        "Retrieval Augmented Generation (RAG): This established approach retrieves relevant information from Data Commons before the LLM generates text, providing it with a factual foundation for its response. This implementation is only possible because of Gemini 1.5 Pro’s long context window allowing us to append the user query with the Data Commons data.\n",
        "\n",
        "Here's how RAG works:\n",
        "\n",
        "1.   User Query: A user submits a query to the LLM.\n",
        "2.   Query Analysis & Data Commons Query Generation: The DataGemma model (based on the Gemma 2 (27B) model and fully fine-tuned for this RAG task) analyzes the user's query and generates a corresponding query (or queries) in natural language that can be understood by Data Commons' existing natural language interface.\n",
        "3.   Data Retrieval from Data Commons: Data Commons is queried using this natural language query, and relevant data tables, source information, and links are retrieved.\n",
        "4.   Augmented Prompt: The retrieved information is added to the original user query, creating an augmented prompt.\n",
        "5.   Final Response Generation: A larger LLM (Gemini 1.5 Pro) uses this augmented prompt, including the retrieved data, to generate a comprehensive and grounded response.\n",
        "\n",
        "In the above example, 14 questions are asked of Data Commons (eg \"What is the population of Sunnyvale?\") and corresponding data tables are retrieved. The data in these table is used to compose the final response with coherent information and insight."
      ],
      "metadata": {
        "id": "waKfp9VumJn7"
      }
    }
  ]
}